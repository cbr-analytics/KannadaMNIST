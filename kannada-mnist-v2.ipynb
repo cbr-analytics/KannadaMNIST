{
 "cells": [
  {
   "cell_type": "code",
   "execution_count": 1,
   "metadata": {
    "_cell_guid": "b1076dfc-b9ad-4769-8c92-a6c4dae69d19",
    "_uuid": "8f2839f25d086af736a60e9eeb907d3b93b6e0e5"
   },
   "outputs": [
    {
     "name": "stdout",
     "output_type": "stream",
     "text": [
      "['test.csv', 'train.csv', 'sample_submission.csv', 'Dig-MNIST.csv']\n"
     ]
    }
   ],
   "source": [
    "# This Python 3 environment comes with many helpful analytics libraries installed\n",
    "# It is defined by the kaggle/python docker image: https://github.com/kaggle/docker-python\n",
    "# For example, here's several helpful packages to load in \n",
    "\n",
    "import numpy as np # linear algebra\n",
    "import pandas as pd # data processing, CSV file I/O (e.g. pd.read_csv)\n",
    "\n",
    "# Input data files are available in the \"../input/\" directory.\n",
    "# For example, running this (by clicking run or pressing Shift+Enter) will list all files under the input directory\n",
    "\n",
    "import os\n",
    "print(os.listdir('../input/Kannada-MNIST/'))\n",
    "\n",
    "# Any results you write to the current directory are saved as output."
   ]
  },
  {
   "cell_type": "code",
   "execution_count": 2,
   "metadata": {
    "_cell_guid": "79c7e3d0-c299-4dcb-8224-4455121ee9b0",
    "_uuid": "d629ff2d2480ee46fbb7e2d37f6b5fab8052498a"
   },
   "outputs": [],
   "source": [
    "data_train = pd.read_csv(\"../input/Kannada-MNIST/train.csv\")\n",
    "data_test = pd.read_csv(\"../input/Kannada-MNIST/test.csv\")\n",
    "data_submission = pd.read_csv(\"../input/Kannada-MNIST/sample_submission.csv\")"
   ]
  },
  {
   "cell_type": "code",
   "execution_count": 3,
   "metadata": {},
   "outputs": [],
   "source": [
    "#Visualize some images\n",
    "X = data_train.iloc[:,1:]\n",
    "y = data_train.iloc[:,0]\n",
    "X = np.asarray(X)\n",
    "y = np.asarray(y)"
   ]
  },
  {
   "cell_type": "code",
   "execution_count": 4,
   "metadata": {},
   "outputs": [],
   "source": [
    "X = X.reshape(-1,28,28,1)"
   ]
  },
  {
   "cell_type": "markdown",
   "metadata": {},
   "source": [
    "Here this kernel uses ImageGenerator from keras.preprocessing.image."
   ]
  },
  {
   "cell_type": "code",
   "execution_count": 5,
   "metadata": {},
   "outputs": [],
   "source": [
    "from sklearn.model_selection import train_test_split\n",
    "\n",
    "X_train, X_test, y_train, y_test = train_test_split(X,y, test_size=0.3, random_state=42)"
   ]
  },
  {
   "cell_type": "code",
   "execution_count": 6,
   "metadata": {},
   "outputs": [
    {
     "data": {
      "text/plain": [
       "(42000, 28, 28, 1)"
      ]
     },
     "execution_count": 6,
     "metadata": {},
     "output_type": "execute_result"
    }
   ],
   "source": [
    "X_train.shape"
   ]
  },
  {
   "cell_type": "code",
   "execution_count": 7,
   "metadata": {},
   "outputs": [
    {
     "name": "stderr",
     "output_type": "stream",
     "text": [
      "Using TensorFlow backend.\n"
     ]
    }
   ],
   "source": [
    "from keras.utils.np_utils import to_categorical\n",
    "X_train = X_train.reshape((42000, 28, 28, 1))\n",
    "X_train = X_train.astype('float32') / 255\n",
    "X_test = X_test.reshape((18000, 28, 28, 1))\n",
    "X_test = X_test.astype('float32') / 255\n",
    "y_train = to_categorical(y_train)\n",
    "y_test = to_categorical(y_test)"
   ]
  },
  {
   "cell_type": "code",
   "execution_count": 8,
   "metadata": {},
   "outputs": [],
   "source": [
    "from keras.layers import Dense, Conv2D, MaxPooling2D, Dropout, Flatten, BatchNormalization\n",
    "from keras import Sequential\n",
    "from keras import layers\n",
    "from keras import models"
   ]
  },
  {
   "cell_type": "code",
   "execution_count": 9,
   "metadata": {},
   "outputs": [],
   "source": [
    "model = models.Sequential()\n",
    "model.add(layers.Conv2D(32, (3,3), activation='relu', input_shape= (28,28,1)))\n",
    "model.add(layers.MaxPooling2D((2,2)))\n",
    "model.add(layers.Conv2D(64, (3,3), activation='relu'))\n",
    "model.add(layers.MaxPooling2D((2,2)))\n",
    "model.add(layers.Conv2D(64, (3,3), activation='relu'))\n",
    "#model.add(layers.Conv2D(128, (3,3), activation='relu'))\n",
    "#model.add(layers.MaxPooling2D((2,2)))\n",
    "#model.add(layers.Conv2D(256, (3,3), activation='relu'))\n",
    "#model.add(layers.MaxPooling2D((2,2)))\n",
    "#Flaten the 3D conv-net to 1D for the Dense layers\n",
    "model.add(layers.Flatten())\n",
    "#model.add(layers.Dense(256, activation='relu'))\n",
    "#model.add(layers.Dense(128, activation='relu'))\n",
    "model.add(layers.Dense(64, activation='relu'))\n",
    "#model.add(layers.Dense(32, activation='relu'))\n",
    "model.add(layers.Dense(10, activation='softmax'))"
   ]
  },
  {
   "cell_type": "code",
   "execution_count": 10,
   "metadata": {},
   "outputs": [
    {
     "name": "stdout",
     "output_type": "stream",
     "text": [
      "Model: \"sequential_1\"\n",
      "_________________________________________________________________\n",
      "Layer (type)                 Output Shape              Param #   \n",
      "=================================================================\n",
      "conv2d_1 (Conv2D)            (None, 26, 26, 32)        320       \n",
      "_________________________________________________________________\n",
      "max_pooling2d_1 (MaxPooling2 (None, 13, 13, 32)        0         \n",
      "_________________________________________________________________\n",
      "conv2d_2 (Conv2D)            (None, 11, 11, 64)        18496     \n",
      "_________________________________________________________________\n",
      "max_pooling2d_2 (MaxPooling2 (None, 5, 5, 64)          0         \n",
      "_________________________________________________________________\n",
      "conv2d_3 (Conv2D)            (None, 3, 3, 64)          36928     \n",
      "_________________________________________________________________\n",
      "flatten_1 (Flatten)          (None, 576)               0         \n",
      "_________________________________________________________________\n",
      "dense_1 (Dense)              (None, 64)                36928     \n",
      "_________________________________________________________________\n",
      "dense_2 (Dense)              (None, 10)                650       \n",
      "=================================================================\n",
      "Total params: 93,322\n",
      "Trainable params: 93,322\n",
      "Non-trainable params: 0\n",
      "_________________________________________________________________\n"
     ]
    }
   ],
   "source": [
    "model.summary()"
   ]
  },
  {
   "cell_type": "code",
   "execution_count": 11,
   "metadata": {},
   "outputs": [],
   "source": [
    "from keras.preprocessing.image import ImageDataGenerator"
   ]
  },
  {
   "cell_type": "code",
   "execution_count": 12,
   "metadata": {},
   "outputs": [],
   "source": [
    "datagen = ImageDataGenerator(\n",
    "        featurewise_center=False,  # set input mean to 0 over the dataset\n",
    "        samplewise_center=False,  # set each sample mean to 0\n",
    "        featurewise_std_normalization=False,  # divide inputs by std of the dataset\n",
    "        samplewise_std_normalization=False,  # divide each input by its std\n",
    "        zca_whitening=False,  # apply ZCA whitening\n",
    "        rotation_range= 10,#10,  # randomly rotate images in the range (degrees, 0 to 180)\n",
    "        zoom_range = 0.1, # Randomly zoom image \n",
    "        width_shift_range=0.05,  # randomly shift images horizontally (fraction of total width)\n",
    "        height_shift_range=0.1,#0.1,  # randomly shift images vertically (fraction of total height)\n",
    "        horizontal_flip=False,  # randomly flip images\n",
    "        vertical_flip=False)  # randomly flip images\n",
    "\n",
    "datagen.fit(X_train)"
   ]
  },
  {
   "cell_type": "code",
   "execution_count": 13,
   "metadata": {},
   "outputs": [],
   "source": [
    "from keras.optimizers import RMSprop\n",
    "from keras.callbacks import ReduceLROnPlateau"
   ]
  },
  {
   "cell_type": "code",
   "execution_count": 14,
   "metadata": {},
   "outputs": [],
   "source": [
    "optimizer=RMSprop(lr=0.001,rho=0.9,decay=0.0)"
   ]
  },
  {
   "cell_type": "code",
   "execution_count": 15,
   "metadata": {},
   "outputs": [],
   "source": [
    "model.compile(optimizer= 'adam',#optimizer, \n",
    "             loss='categorical_crossentropy',\n",
    "             metrics=['accuracy'])"
   ]
  },
  {
   "cell_type": "code",
   "execution_count": 16,
   "metadata": {},
   "outputs": [],
   "source": [
    "# Set a learning rate annealer\n",
    "learning_rate_reduction = ReduceLROnPlateau(monitor='val_acc', \n",
    "                                            patience=3, \n",
    "                                            verbose=1, \n",
    "                                            factor=0.5, \n",
    "                                            min_lr=0.000001)"
   ]
  },
  {
   "cell_type": "code",
   "execution_count": 17,
   "metadata": {},
   "outputs": [],
   "source": [
    "epochs=60 #40 #  #35\n",
    "batch_size=32 #64"
   ]
  },
  {
   "cell_type": "code",
   "execution_count": 18,
   "metadata": {},
   "outputs": [],
   "source": [
    "train_datagen = datagen.flow(X_train,\n",
    "                             y_train, \n",
    "                             batch_size=batch_size)"
   ]
  },
  {
   "cell_type": "code",
   "execution_count": 19,
   "metadata": {},
   "outputs": [
    {
     "name": "stdout",
     "output_type": "stream",
     "text": [
      "Epoch 1/60\n",
      "1312/1312 [==============================] - 16s 12ms/step - loss: 0.2196 - accuracy: 0.9304 - val_loss: 0.0420 - val_accuracy: 0.9877\n",
      "Epoch 2/60\n",
      "  12/1312 [..............................] - ETA: 21s - loss: 0.0675 - accuracy: 0.9844"
     ]
    },
    {
     "name": "stderr",
     "output_type": "stream",
     "text": [
      "/opt/conda/lib/python3.6/site-packages/keras/callbacks/callbacks.py:1042: RuntimeWarning: Reduce LR on plateau conditioned on metric `val_acc` which is not available. Available metrics are: val_loss,val_accuracy,loss,accuracy,lr\n",
      "  (self.monitor, ','.join(list(logs.keys()))), RuntimeWarning\n"
     ]
    },
    {
     "name": "stdout",
     "output_type": "stream",
     "text": [
      "1312/1312 [==============================] - 15s 11ms/step - loss: 0.0718 - accuracy: 0.9779 - val_loss: 0.0294 - val_accuracy: 0.9910\n",
      "Epoch 3/60\n",
      "1312/1312 [==============================] - 15s 11ms/step - loss: 0.0542 - accuracy: 0.9826 - val_loss: 0.0272 - val_accuracy: 0.9919\n",
      "Epoch 4/60\n",
      "1312/1312 [==============================] - 16s 12ms/step - loss: 0.0463 - accuracy: 0.9860 - val_loss: 0.0257 - val_accuracy: 0.9930\n",
      "Epoch 5/60\n",
      "1312/1312 [==============================] - 15s 11ms/step - loss: 0.0397 - accuracy: 0.9876 - val_loss: 0.0182 - val_accuracy: 0.9941\n",
      "Epoch 6/60\n",
      "1312/1312 [==============================] - 15s 11ms/step - loss: 0.0352 - accuracy: 0.9888 - val_loss: 0.0217 - val_accuracy: 0.9936\n",
      "Epoch 7/60\n",
      "1312/1312 [==============================] - 15s 11ms/step - loss: 0.0334 - accuracy: 0.9891 - val_loss: 0.0201 - val_accuracy: 0.9943\n",
      "Epoch 8/60\n",
      "1312/1312 [==============================] - 15s 12ms/step - loss: 0.0318 - accuracy: 0.9903 - val_loss: 0.0192 - val_accuracy: 0.9939\n",
      "Epoch 9/60\n",
      "1312/1312 [==============================] - 15s 11ms/step - loss: 0.0275 - accuracy: 0.9912 - val_loss: 0.0265 - val_accuracy: 0.9910\n",
      "Epoch 10/60\n",
      "1312/1312 [==============================] - 15s 11ms/step - loss: 0.0269 - accuracy: 0.9914 - val_loss: 0.0213 - val_accuracy: 0.9938\n",
      "Epoch 11/60\n",
      "1312/1312 [==============================] - 15s 11ms/step - loss: 0.0248 - accuracy: 0.9917 - val_loss: 0.0216 - val_accuracy: 0.9945\n",
      "Epoch 12/60\n",
      "1312/1312 [==============================] - 15s 11ms/step - loss: 0.0241 - accuracy: 0.9925 - val_loss: 0.0186 - val_accuracy: 0.9943\n",
      "Epoch 13/60\n",
      "1312/1312 [==============================] - 15s 11ms/step - loss: 0.0209 - accuracy: 0.9933 - val_loss: 0.0229 - val_accuracy: 0.9941\n",
      "Epoch 14/60\n",
      "1312/1312 [==============================] - 15s 11ms/step - loss: 0.0234 - accuracy: 0.9928 - val_loss: 0.0182 - val_accuracy: 0.9950\n",
      "Epoch 15/60\n",
      "1312/1312 [==============================] - 15s 11ms/step - loss: 0.0217 - accuracy: 0.9932 - val_loss: 0.0228 - val_accuracy: 0.9946\n",
      "Epoch 16/60\n",
      "1312/1312 [==============================] - 15s 11ms/step - loss: 0.0210 - accuracy: 0.9933 - val_loss: 0.0177 - val_accuracy: 0.9955\n",
      "Epoch 17/60\n",
      "1312/1312 [==============================] - 15s 11ms/step - loss: 0.0193 - accuracy: 0.9941 - val_loss: 0.0157 - val_accuracy: 0.9955\n",
      "Epoch 18/60\n",
      "1312/1312 [==============================] - 15s 11ms/step - loss: 0.0189 - accuracy: 0.9939 - val_loss: 0.0210 - val_accuracy: 0.9937\n",
      "Epoch 19/60\n",
      "1312/1312 [==============================] - 15s 11ms/step - loss: 0.0199 - accuracy: 0.9936 - val_loss: 0.0198 - val_accuracy: 0.9946\n",
      "Epoch 20/60\n",
      "1312/1312 [==============================] - 15s 11ms/step - loss: 0.0181 - accuracy: 0.9940 - val_loss: 0.0164 - val_accuracy: 0.9959\n",
      "Epoch 21/60\n",
      "1312/1312 [==============================] - 15s 11ms/step - loss: 0.0179 - accuracy: 0.9942 - val_loss: 0.0163 - val_accuracy: 0.9954\n",
      "Epoch 22/60\n",
      "1312/1312 [==============================] - 15s 11ms/step - loss: 0.0157 - accuracy: 0.9949 - val_loss: 0.0157 - val_accuracy: 0.9953\n",
      "Epoch 23/60\n",
      "1312/1312 [==============================] - 15s 11ms/step - loss: 0.0168 - accuracy: 0.9950 - val_loss: 0.0171 - val_accuracy: 0.9956\n",
      "Epoch 24/60\n",
      "1312/1312 [==============================] - 15s 11ms/step - loss: 0.0161 - accuracy: 0.9947 - val_loss: 0.0163 - val_accuracy: 0.9958\n",
      "Epoch 31/60\n",
      "1312/1312 [==============================] - 15s 11ms/step - loss: 0.0158 - accuracy: 0.9951 - val_loss: 0.0164 - val_accuracy: 0.9957\n",
      "Epoch 32/60\n",
      "1312/1312 [==============================] - 15s 11ms/step - loss: 0.0143 - accuracy: 0.9952 - val_loss: 0.0166 - val_accuracy: 0.9957\n",
      "Epoch 33/60\n",
      "1312/1312 [==============================] - 15s 11ms/step - loss: 0.0124 - accuracy: 0.9957 - val_loss: 0.0234 - val_accuracy: 0.9951\n",
      "Epoch 34/60\n",
      "1312/1312 [==============================] - 15s 11ms/step - loss: 0.0132 - accuracy: 0.9956 - val_loss: 0.0186 - val_accuracy: 0.9958\n",
      "Epoch 35/60\n",
      "1312/1312 [==============================] - 15s 11ms/step - loss: 0.0143 - accuracy: 0.9959 - val_loss: 0.0175 - val_accuracy: 0.9956\n",
      "Epoch 36/60\n",
      "1312/1312 [==============================] - 15s 11ms/step - loss: 0.0141 - accuracy: 0.9956 - val_loss: 0.0147 - val_accuracy: 0.9964\n",
      "Epoch 37/60\n",
      "1312/1312 [==============================] - 15s 11ms/step - loss: 0.0142 - accuracy: 0.9955 - val_loss: 0.0368 - val_accuracy: 0.9937\n",
      "Epoch 38/60\n",
      "1312/1312 [==============================] - 15s 11ms/step - loss: 0.0115 - accuracy: 0.9963 - val_loss: 0.0173 - val_accuracy: 0.9960\n",
      "Epoch 39/60\n",
      "1312/1312 [==============================] - 15s 11ms/step - loss: 0.0121 - accuracy: 0.9962 - val_loss: 0.0169 - val_accuracy: 0.9962\n",
      "Epoch 40/60\n",
      "1312/1312 [==============================] - 15s 11ms/step - loss: 0.0144 - accuracy: 0.9959 - val_loss: 0.0214 - val_accuracy: 0.9959\n",
      "Epoch 41/60\n",
      "1312/1312 [==============================] - 15s 11ms/step - loss: 0.0120 - accuracy: 0.9963 - val_loss: 0.0162 - val_accuracy: 0.9965\n",
      "Epoch 42/60\n",
      "1312/1312 [==============================] - 15s 11ms/step - loss: 0.0141 - accuracy: 0.9959 - val_loss: 0.0191 - val_accuracy: 0.9951\n",
      "Epoch 43/60\n",
      "1312/1312 [==============================] - 15s 11ms/step - loss: 0.0139 - accuracy: 0.9955 - val_loss: 0.0186 - val_accuracy: 0.9962\n",
      "Epoch 44/60\n",
      "1312/1312 [==============================] - 15s 11ms/step - loss: 0.0129 - accuracy: 0.9960 - val_loss: 0.0183 - val_accuracy: 0.9953\n",
      "Epoch 45/60\n",
      "1312/1312 [==============================] - 15s 12ms/step - loss: 0.0125 - accuracy: 0.9959 - val_loss: 0.0155 - val_accuracy: 0.9961\n",
      "Epoch 46/60\n",
      "1312/1312 [==============================] - 15s 11ms/step - loss: 0.0117 - accuracy: 0.9959 - val_loss: 0.0170 - val_accuracy: 0.9959\n",
      "Epoch 47/60\n",
      "1312/1312 [==============================] - 15s 11ms/step - loss: 0.0116 - accuracy: 0.9966 - val_loss: 0.0166 - val_accuracy: 0.9962\n",
      "Epoch 48/60\n",
      "1312/1312 [==============================] - 15s 11ms/step - loss: 0.0105 - accuracy: 0.9967 - val_loss: 0.0171 - val_accuracy: 0.9953\n",
      "Epoch 49/60\n",
      "1312/1312 [==============================] - 15s 11ms/step - loss: 0.0122 - accuracy: 0.9960 - val_loss: 0.0250 - val_accuracy: 0.9940\n",
      "Epoch 50/60\n",
      "1312/1312 [==============================] - 15s 11ms/step - loss: 0.0111 - accuracy: 0.9966 - val_loss: 0.0226 - val_accuracy: 0.9954\n",
      "Epoch 51/60\n",
      "1312/1312 [==============================] - 15s 11ms/step - loss: 0.0134 - accuracy: 0.9962 - val_loss: 0.0183 - val_accuracy: 0.9961\n",
      "Epoch 52/60\n",
      "1312/1312 [==============================] - 15s 11ms/step - loss: 0.0117 - accuracy: 0.9963 - val_loss: 0.0293 - val_accuracy: 0.9941\n",
      "Epoch 53/60\n",
      "1312/1312 [==============================] - 15s 11ms/step - loss: 0.0112 - accuracy: 0.9965 - val_loss: 0.0242 - val_accuracy: 0.9947\n",
      "Epoch 54/60\n",
      "1312/1312 [==============================] - 15s 11ms/step - loss: 0.0111 - accuracy: 0.9965 - val_loss: 0.0229 - val_accuracy: 0.9944\n",
      "Epoch 55/60\n",
      "1312/1312 [==============================] - 15s 11ms/step - loss: 0.0116 - accuracy: 0.9963 - val_loss: 0.0182 - val_accuracy: 0.9960\n",
      "Epoch 56/60\n",
      "1312/1312 [==============================] - 15s 11ms/step - loss: 0.0106 - accuracy: 0.9966 - val_loss: 0.0213 - val_accuracy: 0.9952\n",
      "Epoch 57/60\n",
      "1312/1312 [==============================] - 15s 11ms/step - loss: 0.0114 - accuracy: 0.9964 - val_loss: 0.0231 - val_accuracy: 0.9959\n",
      "Epoch 58/60\n",
      "1062/1312 [=======================>......] - ETA: 2s - loss: 0.0122 - accuracy: 0.9963"
     ]
    }
   ],
   "source": [
    "# Fit the model\n",
    "history = model.fit_generator(train_datagen,#datagen.flow(X_train,y_train, batch_size=batch_size),\n",
    "                              epochs = epochs, \n",
    "                              validation_data = (X_test,y_test),\n",
    "                              verbose = 1, \n",
    "                              steps_per_epoch=X_train.shape[0] // batch_size, \n",
    "                              callbacks=[learning_rate_reduction])"
   ]
  },
  {
   "cell_type": "code",
   "execution_count": 20,
   "metadata": {},
   "outputs": [
    {
     "data": {
      "image/png": "[encoded data removed]",
      "text/plain": [
       "<Figure size 432x288 with 1 Axes>"
      ]
     },
     "metadata": {
      "needs_background": "light"
     },
     "output_type": "display_data"
    },
    {
     "data": {
      "image/png": "[encoded data removed]",
      "text/plain": [
       "<Figure size 432x288 with 1 Axes>"
      ]
     },
     "metadata": {
      "needs_background": "light"
     },
     "output_type": "display_data"
    }
   ],
   "source": [
    "import matplotlib.pyplot as plt\n",
    "\n",
    "acc = history.history['accuracy']\n",
    "val_acc = history.history['val_accuracy']\n",
    "loss = history.history['loss']\n",
    "val_loss = history.history['val_loss']\n",
    "epochs = range(1, len(acc) + 1)\n",
    "plt.plot(epochs, acc, 'bo', label='Training acc')\n",
    "plt.plot(epochs, val_acc, 'b', label='Validation acc')\n",
    "plt.title('Training and validation accuracy')\n",
    "plt.legend()\n",
    "plt.figure()\n",
    "plt.plot(epochs, loss, 'bo', label='Training loss')\n",
    "plt.plot(epochs, val_loss, 'b', label='Validation loss')\n",
    "plt.title('Training and validation loss')\n",
    "plt.legend()\n",
    "plt.show()"
   ]
  },
  {
   "cell_type": "code",
   "execution_count": 21,
   "metadata": {},
   "outputs": [],
   "source": [
    "y_pre_test=model.predict(X_test)\n",
    "y_pre_test=np.argmax(y_pre_test,axis=1)\n",
    "y_test=np.argmax(y_test,axis=1)"
   ]
  },
  {
   "cell_type": "code",
   "execution_count": 22,
   "metadata": {},
   "outputs": [],
   "source": [
    "from sklearn.metrics import confusion_matrix"
   ]
  },
  {
   "cell_type": "code",
   "execution_count": 23,
   "metadata": {},
   "outputs": [],
   "source": [
    "conf=confusion_matrix(y_test,y_pre_test)\n",
    "conf=pd.DataFrame(conf,index=range(0,10),columns=range(0,10))"
   ]
  },
  {
   "cell_type": "code",
   "execution_count": 24,
   "metadata": {},
   "outputs": [
    {
     "data": {
      "text/html": [
       "<div>\n",
       "<style scoped>\n",
       "    .dataframe tbody tr th:only-of-type {\n",
       "        vertical-align: middle;\n",
       "    }\n",
       "\n",
       "    .dataframe tbody tr th {\n",
       "        vertical-align: top;\n",
       "    }\n",
       "\n",
       "    .dataframe thead th {\n",
       "        text-align: right;\n",
       "    }\n",
       "</style>\n",
       "<table border=\"1\" class=\"dataframe\">\n",
       "  <thead>\n",
       "    <tr style=\"text-align: right;\">\n",
       "      <th></th>\n",
       "      <th>0</th>\n",
       "      <th>1</th>\n",
       "      <th>2</th>\n",
       "      <th>3</th>\n",
       "      <th>4</th>\n",
       "      <th>5</th>\n",
       "      <th>6</th>\n",
       "      <th>7</th>\n",
       "      <th>8</th>\n",
       "      <th>9</th>\n",
       "    </tr>\n",
       "  </thead>\n",
       "  <tbody>\n",
       "    <tr>\n",
       "      <td>0</td>\n",
       "      <td>1774</td>\n",
       "      <td>7</td>\n",
       "      <td>0</td>\n",
       "      <td>0</td>\n",
       "      <td>0</td>\n",
       "      <td>0</td>\n",
       "      <td>0</td>\n",
       "      <td>0</td>\n",
       "      <td>3</td>\n",
       "      <td>1</td>\n",
       "    </tr>\n",
       "    <tr>\n",
       "      <td>1</td>\n",
       "      <td>35</td>\n",
       "      <td>1797</td>\n",
       "      <td>0</td>\n",
       "      <td>0</td>\n",
       "      <td>0</td>\n",
       "      <td>0</td>\n",
       "      <td>0</td>\n",
       "      <td>1</td>\n",
       "      <td>0</td>\n",
       "      <td>1</td>\n",
       "    </tr>\n",
       "    <tr>\n",
       "      <td>2</td>\n",
       "      <td>2</td>\n",
       "      <td>0</td>\n",
       "      <td>1831</td>\n",
       "      <td>0</td>\n",
       "      <td>0</td>\n",
       "      <td>0</td>\n",
       "      <td>0</td>\n",
       "      <td>0</td>\n",
       "      <td>0</td>\n",
       "      <td>0</td>\n",
       "    </tr>\n",
       "    <tr>\n",
       "      <td>3</td>\n",
       "      <td>1</td>\n",
       "      <td>1</td>\n",
       "      <td>0</td>\n",
       "      <td>1770</td>\n",
       "      <td>0</td>\n",
       "      <td>1</td>\n",
       "      <td>0</td>\n",
       "      <td>12</td>\n",
       "      <td>0</td>\n",
       "      <td>0</td>\n",
       "    </tr>\n",
       "    <tr>\n",
       "      <td>4</td>\n",
       "      <td>0</td>\n",
       "      <td>1</td>\n",
       "      <td>0</td>\n",
       "      <td>0</td>\n",
       "      <td>1801</td>\n",
       "      <td>4</td>\n",
       "      <td>0</td>\n",
       "      <td>0</td>\n",
       "      <td>1</td>\n",
       "      <td>2</td>\n",
       "    </tr>\n",
       "    <tr>\n",
       "      <td>5</td>\n",
       "      <td>0</td>\n",
       "      <td>0</td>\n",
       "      <td>0</td>\n",
       "      <td>2</td>\n",
       "      <td>0</td>\n",
       "      <td>1767</td>\n",
       "      <td>0</td>\n",
       "      <td>0</td>\n",
       "      <td>1</td>\n",
       "      <td>0</td>\n",
       "    </tr>\n",
       "    <tr>\n",
       "      <td>6</td>\n",
       "      <td>0</td>\n",
       "      <td>0</td>\n",
       "      <td>0</td>\n",
       "      <td>0</td>\n",
       "      <td>0</td>\n",
       "      <td>0</td>\n",
       "      <td>1775</td>\n",
       "      <td>5</td>\n",
       "      <td>0</td>\n",
       "      <td>3</td>\n",
       "    </tr>\n",
       "    <tr>\n",
       "      <td>7</td>\n",
       "      <td>0</td>\n",
       "      <td>0</td>\n",
       "      <td>0</td>\n",
       "      <td>2</td>\n",
       "      <td>0</td>\n",
       "      <td>0</td>\n",
       "      <td>4</td>\n",
       "      <td>1836</td>\n",
       "      <td>0</td>\n",
       "      <td>0</td>\n",
       "    </tr>\n",
       "    <tr>\n",
       "      <td>8</td>\n",
       "      <td>0</td>\n",
       "      <td>0</td>\n",
       "      <td>0</td>\n",
       "      <td>0</td>\n",
       "      <td>0</td>\n",
       "      <td>0</td>\n",
       "      <td>0</td>\n",
       "      <td>0</td>\n",
       "      <td>1775</td>\n",
       "      <td>0</td>\n",
       "    </tr>\n",
       "    <tr>\n",
       "      <td>9</td>\n",
       "      <td>1</td>\n",
       "      <td>0</td>\n",
       "      <td>0</td>\n",
       "      <td>0</td>\n",
       "      <td>0</td>\n",
       "      <td>0</td>\n",
       "      <td>8</td>\n",
       "      <td>0</td>\n",
       "      <td>0</td>\n",
       "      <td>1775</td>\n",
       "    </tr>\n",
       "  </tbody>\n",
       "</table>\n",
       "</div>"
      ],
      "text/plain": [
       "      0     1     2     3     4     5     6     7     8     9\n",
       "0  1774     7     0     0     0     0     0     0     3     1\n",
       "1    35  1797     0     0     0     0     0     1     0     1\n",
       "2     2     0  1831     0     0     0     0     0     0     0\n",
       "3     1     1     0  1770     0     1     0    12     0     0\n",
       "4     0     1     0     0  1801     4     0     0     1     2\n",
       "5     0     0     0     2     0  1767     0     0     1     0\n",
       "6     0     0     0     0     0     0  1775     5     0     3\n",
       "7     0     0     0     2     0     0     4  1836     0     0\n",
       "8     0     0     0     0     0     0     0     0  1775     0\n",
       "9     1     0     0     0     0     0     8     0     0  1775"
      ]
     },
     "execution_count": 24,
     "metadata": {},
     "output_type": "execute_result"
    }
   ],
   "source": [
    "conf"
   ]
  },
  {
   "cell_type": "markdown",
   "metadata": {},
   "source": [
    "Submission"
   ]
  },
  {
   "cell_type": "code",
   "execution_count": 25,
   "metadata": {},
   "outputs": [],
   "source": [
    "test=pd.read_csv('../input/Kannada-MNIST/test.csv')"
   ]
  },
  {
   "cell_type": "code",
   "execution_count": 26,
   "metadata": {},
   "outputs": [],
   "source": [
    "test_id=test.id\n",
    "\n",
    "test=test.drop('id',axis=1)\n",
    "test=test/255\n",
    "test=test.values.reshape(-1,28,28,1)"
   ]
  },
  {
   "cell_type": "code",
   "execution_count": 27,
   "metadata": {},
   "outputs": [
    {
     "data": {
      "text/plain": [
       "(5000, 28, 28, 1)"
      ]
     },
     "execution_count": 27,
     "metadata": {},
     "output_type": "execute_result"
    }
   ],
   "source": [
    "test.shape"
   ]
  },
  {
   "cell_type": "code",
   "execution_count": 28,
   "metadata": {},
   "outputs": [],
   "source": [
    "y_pre=model.predict(test)     ##making prediction\n",
    "y_pre=np.argmax(y_pre,axis=1) ##changing the prediction intro labels"
   ]
  },
  {
   "cell_type": "code",
   "execution_count": 29,
   "metadata": {},
   "outputs": [],
   "source": [
    "data_submission['label']=y_pre\n",
    "data_submission.to_csv('submission.csv',index=False)"
   ]
  },
  {
   "cell_type": "code",
   "execution_count": 30,
   "metadata": {},
   "outputs": [
    {
     "data": {
      "text/html": [
       "<div>\n",
       "<style scoped>\n",
       "    .dataframe tbody tr th:only-of-type {\n",
       "        vertical-align: middle;\n",
       "    }\n",
       "\n",
       "    .dataframe tbody tr th {\n",
       "        vertical-align: top;\n",
       "    }\n",
       "\n",
       "    .dataframe thead th {\n",
       "        text-align: right;\n",
       "    }\n",
       "</style>\n",
       "<table border=\"1\" class=\"dataframe\">\n",
       "  <thead>\n",
       "    <tr style=\"text-align: right;\">\n",
       "      <th></th>\n",
       "      <th>id</th>\n",
       "      <th>label</th>\n",
       "    </tr>\n",
       "  </thead>\n",
       "  <tbody>\n",
       "    <tr>\n",
       "      <td>0</td>\n",
       "      <td>0</td>\n",
       "      <td>3</td>\n",
       "    </tr>\n",
       "    <tr>\n",
       "      <td>1</td>\n",
       "      <td>1</td>\n",
       "      <td>0</td>\n",
       "    </tr>\n",
       "    <tr>\n",
       "      <td>2</td>\n",
       "      <td>2</td>\n",
       "      <td>2</td>\n",
       "    </tr>\n",
       "    <tr>\n",
       "      <td>3</td>\n",
       "      <td>3</td>\n",
       "      <td>6</td>\n",
       "    </tr>\n",
       "    <tr>\n",
       "      <td>4</td>\n",
       "      <td>4</td>\n",
       "      <td>7</td>\n",
       "    </tr>\n",
       "  </tbody>\n",
       "</table>\n",
       "</div>"
      ],
      "text/plain": [
       "   id  label\n",
       "0   0      3\n",
       "1   1      0\n",
       "2   2      2\n",
       "3   3      6\n",
       "4   4      7"
      ]
     },
     "execution_count": 30,
     "metadata": {},
     "output_type": "execute_result"
    }
   ],
   "source": [
    "data_submission.head()"
   ]
  }
 ],
 "metadata": {
  "kernelspec": {
   "display_name": "Python 3",
   "language": "python",
   "name": "python3"
  },
  "language_info": {
   "codemirror_mode": {
    "name": "ipython",
    "version": 3
   },
   "file_extension": ".py",
   "mimetype": "text/x-python",
   "name": "python",
   "nbconvert_exporter": "python",
   "pygments_lexer": "ipython3",
   "version": "3.6.6"
  }
 },
 "nbformat": 4,
 "nbformat_minor": 1
}
